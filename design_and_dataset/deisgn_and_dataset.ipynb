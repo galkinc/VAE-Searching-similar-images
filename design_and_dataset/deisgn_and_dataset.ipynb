{
 "cells": [
  {
   "cell_type": "markdown",
   "metadata": {},
   "source": [
    "# The goals of assessment"
   ]
  },
  {
   "cell_type": "markdown",
   "metadata": {},
   "source": [
    "* Design document and dataset description\n",
    "* Model Trainig code providing by Jupiter Notebook\n",
    "* HTML Frontend Client providing\n",
    "* Training model from scratch\n",
    "* Compile docker-compose for full architecture"
   ]
  },
  {
   "cell_type": "markdown",
   "metadata": {},
   "source": [
    "# Searching images of similar fruits using VAE"
   ]
  },
  {
   "cell_type": "markdown",
   "metadata": {},
   "source": [
    "As a topic for the project was choosen Variational Autoencoders topic with applied task: Searching similar images\n",
    "\n",
    "The project includes: \n",
    "* design documents, \n",
    "* dataset \n",
    "* dattaset description \n",
    "* trained model from scratch \n",
    "* model nootebook training with description\n",
    "* a simple image search engine using Flask\n",
    "* docker-compose for full architecture"
   ]
  },
  {
   "cell_type": "markdown",
   "metadata": {},
   "source": [
    "The VAE model was trained using the Fruits 360 dataset: A dataset of images containing fruits and vegetables.\n",
    "\n",
    "The source dataset archive located in ***'./design_and_dataset/archive.zip'***\n",
    "\n",
    "The source of data can be founded on Kaggle: https://www.kaggle.com/moltean/fruits"
   ]
  },
  {
   "cell_type": "markdown",
   "metadata": {},
   "source": [
    "## Fruits 360 dataset description"
   ]
  },
  {
   "cell_type": "markdown",
   "metadata": {},
   "source": [
    "Version of used database is: 2020.05.18.0\n",
    "\n",
    "Zip file size: 1.131GB\n",
    "\n",
    "The following fruits and are included:\n",
    "Apples (different varieties: Crimson Snow, Golden, Golden-Red, Granny Smith, Pink Lady, Red, Red Delicious), Apricot, Avocado, Avocado ripe, Banana (Yellow, Red, Lady Finger), Beetroot Red, Blueberry, Cactus fruit, Cantaloupe (2 varieties), Carambula, Cauliflower, Cherry (different varieties, Rainier), Cherry Wax (Yellow, Red, Black), Chestnut, Clementine, Cocos, Corn (with husk), Cucumber (ripened), Dates, Eggplant, Fig, Ginger Root, Granadilla, Grape (Blue, Pink, White (different varieties)), Grapefruit (Pink, White), Guava, Hazelnut, Huckleberry, Kiwi, Kaki, Kohlrabi, Kumsquats, Lemon (normal, Meyer), Lime, Lychee, Mandarine, Mango (Green, Red), Mangostan, Maracuja, Melon Piel de Sapo, Mulberry, Nectarine (Regular, Flat), Nut (Forest, Pecan), Onion (Red, White), Orange, Papaya, Passion fruit, Peach (different varieties), Pepino, Pear (different varieties, Abate, Forelle, Kaiser, Monster, Red, Stone, Williams), Pepper (Red, Green, Orange, Yellow), Physalis (normal, with Husk), Pineapple (normal, Mini), Pitahaya Red, Plum (different varieties), Pomegranate, Pomelo Sweetie, Potato (Red, Sweet, White), Quince, Rambutan, Raspberry, Redcurrant, Salak, Strawberry (normal, Wedge), Tamarillo, Tangelo, Tomato (different varieties, Maroon, Cherry Red, Yellow, not ripened, Heart), Walnut, Watermelon.\n",
    "\n",
    "Here is a movie showing how the fruits and vegetables are filmed: https://youtu.be/_HFKJ144JuU"
   ]
  },
  {
   "cell_type": "markdown",
   "metadata": {},
   "source": [
    "## Dataset properties"
   ]
  },
  {
   "cell_type": "markdown",
   "metadata": {},
   "source": [
    "The total number of images: 90483.\n",
    "\n",
    "Training set size: 67692 images (one fruit or vegetable per image).\n",
    "\n",
    "Test set size: 22688 images (one fruit or vegetable per image).\n",
    "\n",
    "The number of classes: 131 (fruits and vegetables).\n",
    "\n",
    "Image size: 100x100 pixels.\n",
    "\n",
    "Filename format: imageindex100.jpg (e.g. 32100.jpg) or rimageindex100.jpg (e.g. r32100.jpg) or r2imageindex100.jpg or r3imageindex100.jpg. \"r\" stands for rotated fruit. \"r2\" means that the fruit was rotated around the 3rd axis. \"100\" comes from image size (100x100 pixels).\n",
    "\n",
    "Different varieties of the same fruit (apple for instance) are stored as belonging to different classes.\n",
    "\n",
    "Folders Training and Test contain images for training and testing purposes.\n",
    "\n",
    "Folder test-multiple_fruits contains images with multiple fruits. Some of them are partially covered by other fruits. This is an excelent test for real-world detection."
   ]
  },
  {
   "cell_type": "markdown",
   "metadata": {},
   "source": [
    "## Design for VAE model"
   ]
  },
  {
   "cell_type": "markdown",
   "metadata": {},
   "source": [
    "VAE, is the artificial neural network architecture introduced by Diederik P Kingma and Max Welling, belonging to the families of probabilistic graphical models and variational Bayesian methods.\n",
    "\n",
    "It is often associated with the autoencoder model because of its architectural affinity, but there are significant differences both in the goal and in the mathematical formulation. Variational autoencoders are meant to compress the input information into a constrained multivariate latent distribution (encoding) to reconstruct it as accurately as possible (decoding). Although this type of model was initially designed for unsupervised learning, its effectiveness has been proven in other domains of machine learning such as semi-supervised learning or supervised learning."
   ]
  },
  {
   "cell_type": "markdown",
   "metadata": {},
   "source": [
    "Design was defined base by Unsupervised learning using VAE script.\n",
    "\n",
    "The model Jupiter Notebook you can find in ***'./model/model.ipynb'***\n",
    "\n",
    "In the Model Notebook you can find the folowin puncts and steps: \n",
    "* Description about VAE\n",
    "* Importing Data and creating Train and Test sets\n",
    "* Preparing data with image rescalling\n",
    "* Creating a variational autoencoder\n",
    "* Declainge the model architecture\n",
    "* Declaring the optimizer and learning rate\n",
    "* Using the Loss function\n",
    "* Training the model\n",
    "* Extracting the embeddings for the following using\n",
    "\n",
    "The result of the model treaining is located in ***'./model/checkpoint.pth'***\n"
   ]
  },
  {
   "cell_type": "markdown",
   "metadata": {},
   "source": [
    "## Design of the Flask application"
   ]
  },
  {
   "cell_type": "markdown",
   "metadata": {},
   "source": [
    "Flask is a micro-framework written in Python which can help us in quickly getting started in building the app. We will train the data from the dataset using our model. While we saved the final model in the filem, we can use it for prediction purpose. Let’s dive deeper on how the whole web app can be built and deployed anywere using a Docker container."
   ]
  },
  {
   "cell_type": "markdown",
   "metadata": {},
   "source": [
    "Design of our flask application has the followin steps:\n",
    "* ***'server.py'*** - is the main backend file for our application.\n",
    "* ***'embedding.npy'*** - embedding of each image stored in ***'./static/img/'***\n",
    "* ***'img_paths.json'*** - This keeps a record of all the images in ***'./static/img/'***\n",
    "* ***'feature_extractor.py'*** - This contains functions that will be used by the application to extract image embeddings.\n",
    "* ***'./templates/'***\n",
    "  - index.html - File that contains information about the UI of the app. Teamplate  images locate in ***'.static/templates/'***\n",
    "* ***'./static/'***\n",
    "  - ***'./static/img/'***\n",
    "    - Contains All the images that are used to construct the embeddings\n",
    "  - ***'./static/uploaded/'***\n",
    "    - Contains images that are uploaded into the application.\n",
    "  - ***'./static/templates/'***\n",
    "    - Contains images wich are using in the index.html file\n",
    "* ***'requirements.txt'*** - List of libraries used for this application."
   ]
  },
  {
   "cell_type": "markdown",
   "metadata": {},
   "source": [
    "# Design of the Containerization using Docker containers"
   ]
  },
  {
   "cell_type": "markdown",
   "metadata": {},
   "source": [
    "Docker is an open source application that allows users to create, manage, deploy applications using containers. Applications that are run using Docker reside in an environment of their own and house dependencies that are needed for running the application. Docker can be installed on Mac using the following link."
   ]
  },
  {
   "cell_type": "markdown",
   "metadata": {},
   "source": [
    "Docker designing has following steps:\n",
    "* Defining the recomendation instructions\n",
    "* Creating a Docker file which instructs the docker to install the dependencies and perform other commands while building the docker image.\n",
    "* Building the docker image\n",
    "* Testing and create final description"
   ]
  },
  {
   "cell_type": "code",
   "execution_count": null,
   "metadata": {},
   "outputs": [],
   "source": []
  }
 ],
 "metadata": {
  "kernelspec": {
   "display_name": "Python 3",
   "language": "python",
   "name": "python3"
  },
  "language_info": {
   "codemirror_mode": {
    "name": "ipython",
    "version": 3
   },
   "file_extension": ".py",
   "mimetype": "text/x-python",
   "name": "python",
   "nbconvert_exporter": "python",
   "pygments_lexer": "ipython3",
   "version": "3.8.5"
  }
 },
 "nbformat": 4,
 "nbformat_minor": 4
}
